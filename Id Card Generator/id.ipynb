{
 "cells": [
  {
   "cell_type": "code",
   "execution_count": 1,
   "metadata": {},
   "outputs": [],
   "source": [
    "import pandas as pd #data analysis and manipulation tool\n",
    "from PIL import Image, ImageDraw, ImageFont"
   ]
  },
  {
   "cell_type": "code",
   "execution_count": 2,
   "metadata": {},
   "outputs": [],
   "source": [
    "df=pd.read_csv(\"students.csv\")#reads the csv"
   ]
  },
  {
   "cell_type": "code",
   "execution_count": null,
   "metadata": {},
   "outputs": [],
   "source": [
    "df #displays the csv data "
   ]
  },
  {
   "cell_type": "code",
   "execution_count": null,
   "metadata": {},
   "outputs": [],
   "source": [
    "records = df.to_dict(orient='record') #.to_dict() method is used to convert a dataframe into a dictionary of series or list like data type depending on orient parameter."
   ]
  },
  {
   "cell_type": "code",
   "execution_count": 5,
   "metadata": {},
   "outputs": [],
   "source": [
    "font= ImageFont.truetype(\"timesbd.ttf\", size=25) #all about the font"
   ]
  },
  {
   "cell_type": "code",
   "execution_count": 6,
   "metadata": {},
   "outputs": [],
   "source": [
    "def generate_card(data):\n",
    "    template= Image.open(\"temp.png\")\n",
    "    pic = Image.open(f\"photos/{data['id']}.jpg\").resize((184,206), Image.ANTIALIAS)\n",
    "    template.paste(pic, (26,82,210,288))\n",
    "    draw= ImageDraw.Draw(template)\n",
    "    draw.text((344,95),str(data['id']), font=font, fill='black')\n",
    "    draw.text((344,152),data['name'], font=font, fill='black')\n",
    "    draw.text((344,199),data['class'], font=font, fill='black')\n",
    "    draw.text((344,253),data['dob'], font=font, fill='black')\n",
    "    return template\n",
    "\n"
   ]
  },
  {
   "cell_type": "code",
   "execution_count": 7,
   "metadata": {},
   "outputs": [],
   "source": [
    "for record in records:\n",
    "    card=generate_card(record)\n",
    "    card.save(f\"cards/{record['id']}.png\")#stores the id cards in the folder named cards"
   ]
  },
  {
   "cell_type": "code",
   "execution_count": null,
   "metadata": {},
   "outputs": [],
   "source": []
  }
 ],
 "metadata": {
  "interpreter": {
   "hash": "33dc6d49505b4536b6a128d9d7c879e1fa44477ad44947bbbe73093067fe6393"
  },
  "kernelspec": {
   "display_name": "Python 3.9.0 64-bit",
   "name": "python3"
  },
  "language_info": {
   "codemirror_mode": {
    "name": "ipython",
    "version": 3
   },
   "file_extension": ".py",
   "mimetype": "text/x-python",
   "name": "python",
   "nbconvert_exporter": "python",
   "pygments_lexer": "ipython3",
   "version": "3.9.0"
  },
  "orig_nbformat": 4
 },
 "nbformat": 4,
 "nbformat_minor": 2
}
